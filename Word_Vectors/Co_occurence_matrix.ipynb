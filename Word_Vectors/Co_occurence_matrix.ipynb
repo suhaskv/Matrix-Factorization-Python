{
 "cells": [
  {
   "cell_type": "code",
   "execution_count": 1,
   "metadata": {},
   "outputs": [],
   "source": [
    "import pandas as pd\n",
    "from sklearn.feature_extraction.text import CountVectorizer\n",
    "import numpy as np\n",
    "import matplotlib.pyplot as plt\n",
    "from matplotlib.pyplot import figure\n",
    "import seaborn as sns"
   ]
  },
  {
   "cell_type": "code",
   "execution_count": 3,
   "metadata": {},
   "outputs": [],
   "source": [
    "doc = [\"kalidasa was a phenomenal poet\",\n",
    "       \"vijayanagara was a great empire\"]"
   ]
  },
  {
   "cell_type": "code",
   "execution_count": 4,
   "metadata": {},
   "outputs": [],
   "source": [
    "# Default token_pattern considers only words which have 2 or more alphanumerics as a token.\n",
    "# Default token_pattern ignores single character words like I, a etc.\n",
    "# Making token_pattern=r\"(?u)\\b\\w+\\b\" will make words with 1 or more alphanumerics as a token\n",
    "\n",
    "vect = CountVectorizer(stop_words=None, token_pattern=r\"(?u)\\b\\w+\\b\")\n",
    "X = vect.fit_transform(doc)"
   ]
  },
  {
   "cell_type": "code",
   "execution_count": 5,
   "metadata": {},
   "outputs": [
    {
     "name": "stdout",
     "output_type": "stream",
     "text": [
      "Set of unique words in the document is given by: \n",
      "['a', 'empire', 'great', 'kalidasa', 'phenomenal', 'poet', 'vijayanagara', 'was']\n"
     ]
    }
   ],
   "source": [
    "print(\"Set of unique words in the document is given by: \\n{}\".format(vect.get_feature_names()))"
   ]
  },
  {
   "cell_type": "code",
   "execution_count": 6,
   "metadata": {},
   "outputs": [
    {
     "data": {
      "text/plain": [
       "array([[0., 0., 0., 0., 0., 0., 0., 0.],\n",
       "       [0., 0., 0., 0., 0., 0., 0., 0.],\n",
       "       [0., 0., 0., 0., 0., 0., 0., 0.],\n",
       "       [0., 0., 0., 0., 0., 0., 0., 0.],\n",
       "       [0., 0., 0., 0., 0., 0., 0., 0.],\n",
       "       [0., 0., 0., 0., 0., 0., 0., 0.],\n",
       "       [0., 0., 0., 0., 0., 0., 0., 0.],\n",
       "       [0., 0., 0., 0., 0., 0., 0., 0.]])"
      ]
     },
     "execution_count": 6,
     "metadata": {},
     "output_type": "execute_result"
    }
   ],
   "source": [
    "# Create a co-occurrence matrix of unique words and initialize them to zero\n",
    "uniq_wrds = vect.get_feature_names()\n",
    "n = len(uniq_wrds)\n",
    "co_mat = np.zeros((n,n))\n",
    "co_mat"
   ]
  },
  {
   "cell_type": "code",
   "execution_count": 7,
   "metadata": {},
   "outputs": [],
   "source": [
    "window_len = 2\n",
    "def update_co_mat(x):   \n",
    "    # Get all the words in the sentence and store it in an array wrd_lst\n",
    "    wrd_list = x.split(' ')\n",
    "    \n",
    "    # Consider each word as a focus word\n",
    "    for focus_wrd_indx, focus_wrd in enumerate(wrd_list):\n",
    "        focus_wrd = focus_wrd.lower()\n",
    "        # Get the indices of all the context words for the given focus word\n",
    "        for contxt_wrd_indx in range((max(0,focus_wrd_indx - window_len)),(min(len(wrd_list),focus_wrd_indx + window_len +1))):                        \n",
    "            # If context words are in the unique words list\n",
    "            if wrd_list[contxt_wrd_indx] in uniq_wrds:\n",
    "                \n",
    "                # To identify the row number, get the index of the focus_wrd in the uniq_wrds list\n",
    "                co_mat_row_indx = uniq_wrds.index(focus_wrd)\n",
    "                \n",
    "                # To identify the column number, get the index of the context words in the uniq_wrds list\n",
    "                co_mat_col_indx = uniq_wrds.index(wrd_list[contxt_wrd_indx])\n",
    "                                \n",
    "                # Update the respective columns of the corresponding focus word row\n",
    "                co_mat[co_mat_row_indx][co_mat_col_indx] += 1"
   ]
  },
  {
   "cell_type": "code",
   "execution_count": 8,
   "metadata": {},
   "outputs": [
    {
     "name": "stdout",
     "output_type": "stream",
     "text": [
      "\n",
      "Co-occurrence Matrix: \n",
      "[[2. 1. 1. 1. 1. 1. 1. 2.]\n",
      " [1. 1. 1. 0. 0. 0. 0. 0.]\n",
      " [1. 1. 1. 0. 0. 0. 0. 1.]\n",
      " [1. 0. 0. 1. 0. 0. 0. 1.]\n",
      " [1. 0. 0. 0. 1. 1. 0. 1.]\n",
      " [1. 0. 0. 0. 1. 1. 0. 0.]\n",
      " [1. 0. 0. 0. 0. 0. 1. 1.]\n",
      " [2. 0. 1. 1. 1. 0. 1. 2.]]\n"
     ]
    }
   ],
   "source": [
    "for sentence in doc:\n",
    "    update_co_mat(sentence)\n",
    "print()\n",
    "print(\"Co-occurrence Matrix: \")\n",
    "print(co_mat)"
   ]
  },
  {
   "cell_type": "code",
   "execution_count": 9,
   "metadata": {},
   "outputs": [
    {
     "data": {
      "text/plain": [
       "Text(0.5, 1, 'Co-occurrence Matrix')"
      ]
     },
     "execution_count": 9,
     "metadata": {},
     "output_type": "execute_result"
    },
    {
     "data": {
      "image/png": "[encoded data removed]",
      "text/plain": [
       "<Figure size 1080x720 with 2 Axes>"
      ]
     },
     "metadata": {},
     "output_type": "display_data"
    }
   ],
   "source": [
    "figure(figsize=(15,10))\n",
    "df_cm1 = pd.DataFrame(co_mat, index=uniq_wrds, columns=uniq_wrds)\n",
    "cf_hm1 = sns.heatmap(df_cm1, annot=True, xticklabels=uniq_wrds, yticklabels=uniq_wrds, linewidths=.5, linecolor='black', cmap=\"Blues\")\n",
    "plt.yticks(rotation=0)\n",
    "plt.title('Co-occurrence Matrix')"
   ]
  }
 ],
 "metadata": {
  "kernelspec": {
   "display_name": "Python 3",
   "language": "python",
   "name": "python3"
  },
  "language_info": {
   "codemirror_mode": {
    "name": "ipython",
    "version": 3
   },
   "file_extension": ".py",
   "mimetype": "text/x-python",
   "name": "python",
   "nbconvert_exporter": "python",
   "pygments_lexer": "ipython3",
   "version": "3.6.5"
  }
 },
 "nbformat": 4,
 "nbformat_minor": 2
}
